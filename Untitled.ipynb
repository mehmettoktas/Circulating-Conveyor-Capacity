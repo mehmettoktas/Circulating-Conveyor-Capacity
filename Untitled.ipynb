{
 "cells": [
  {
   "cell_type": "code",
   "execution_count": 15,
   "id": "75e90dce",
   "metadata": {},
   "outputs": [],
   "source": [
    "# Mehmet Toktaş 22069603\n",
    "# Ceyda Erdoğan 21069601"
   ]
  },
  {
   "cell_type": "code",
   "execution_count": 9,
   "id": "b1c436b8",
   "metadata": {},
   "outputs": [],
   "source": [
    "# Importing library\n",
    "import pandas as pd"
   ]
  },
  {
   "cell_type": "code",
   "execution_count": 10,
   "id": "24cc394c",
   "metadata": {},
   "outputs": [
    {
     "name": "stdout",
     "output_type": "stream",
     "text": [
      "Please define position1,2,3,4,5\n",
      "st1[2, 0, 2, 0, 3]\n",
      "st2[-2, 0, 0, -1, -4]\n",
      "cumst1[2, 0, 2, 2, 4]\n",
      "cumst2[0, 0, 2, 1, 0]\n",
      "adjst1[2, 0, 2, 2, 4]\n",
      "adjst2[0, 0, 2, 1, 0]\n"
     ]
    }
   ],
   "source": [
    "# Creating list \n",
    "f1, f2 = [], []\n",
    "st1, st2 = [], []\n",
    "cum_st1, cum_st2 = [], []\n",
    "adj_st1, adj_st2 = [], []\n",
    "\n",
    "# Read txt folder\n",
    "f = open(\"input.txt\",\"r\")\n",
    "lines = f.readlines()\n",
    "\n",
    "# Str to list\n",
    "f1 = lines[0].replace(\"\\n\", \"\").split(\",\")\n",
    "f2 = lines[1].split(\",\")\n",
    "\n",
    "# Defining position\n",
    "position = input(\"Please define position\").split(\",\")\n",
    "\n",
    "# Positioning depends on position \n",
    "for i in position:\n",
    "    i = int(i) - 1\n",
    "    st1.append(int(f1[i]))\n",
    "    st2.append(int(f2[i])) \n",
    "\n",
    "print(\"st1\"+str(st1))\n",
    "print(\"st2\"+str(st2))\n",
    "\n",
    "for i in range(5):\n",
    "    if i == 0:\n",
    "        cum_st1.append(st1[i])\n",
    "        cum_st2.append(cum_st1[i]+st2[i])\n",
    "        continue\n",
    "    cum_st1.append(cum_st2[i-1]+st1[i])\n",
    "    cum_st2.append(cum_st1[i]+st2[i])\n",
    "\n",
    "print(\"cumst1\"+str(cum_st1))\n",
    "print(\"cumst2\"+str(cum_st2))  \n",
    "\n",
    "min = 0\n",
    "\n",
    "for i in range(5):\n",
    "    if cum_st1[i] < min:\n",
    "        min = cum_st1[i]\n",
    "    if cum_st2[i] < min:\n",
    "        min = cum_st2[i]\n",
    "\n",
    "\n",
    "\n",
    "if min < 0:\n",
    "    min *= -1\n",
    "    for i in range(5):\n",
    "        adj_st1.append(cum_st1[i]+min)\n",
    "        adj_st2.append(cum_st2[i]+min)\n",
    "else:\n",
    "    adj_st1 = cum_st1\n",
    "    adj_st2 = cum_st2\n",
    "\n",
    "print(\"adjst1\"+str(adj_st1))\n",
    "print(\"adjst2\"+str(adj_st2))"
   ]
  },
  {
   "cell_type": "code",
   "execution_count": 11,
   "id": "ffc6761c",
   "metadata": {},
   "outputs": [],
   "source": [
    "multi_index = pd.MultiIndex.from_tuples([(\"1\", position[0]),\n",
    "                                        (\"2\", position[1]),\n",
    "                                        (\"3\", position[2]),\n",
    "                                        (\"4\", position[3]),\n",
    "                                        (\"5\", position[4]),],\n",
    "                                        names =['Round Num', 'Position'])\n",
    "cols = pd.MultiIndex.from_tuples([(\"Loads\", \"ST1\"),\n",
    "                                 (\"Loads\", \"ST2\"),\n",
    "                                 (\"Cum. Loads\", \"ST1\"),\n",
    "                                 (\"Cum. Loads\", \"ST2\"),\n",
    "                                 (\"Adjusted Cum.L\", \"ST1\"),\n",
    "                                 (\"Adjusted Cum.L\", \"ST2\"),])\n",
    "\n",
    "data = [[st1[0],st2[0],cum_st1[0],cum_st2[0],adj_st1[0],adj_st2[0]], \n",
    "        [st1[1],st2[1],cum_st1[1],cum_st2[1],adj_st1[1],adj_st2[1]], \n",
    "        [st1[2],st2[2],cum_st1[2],cum_st2[2],adj_st1[2],adj_st2[2]], \n",
    "        [st1[3],st2[3],cum_st1[3],cum_st2[3],adj_st1[3],adj_st2[3]], \n",
    "        [st1[4],st2[4],cum_st1[4],cum_st2[4],adj_st1[4],adj_st2[4]]]"
   ]
  },
  {
   "cell_type": "code",
   "execution_count": 12,
   "id": "30066487",
   "metadata": {},
   "outputs": [],
   "source": [
    "# Creating dataframe\n",
    "df = pd.DataFrame(data, columns=cols, index=multi_index)"
   ]
  },
  {
   "cell_type": "code",
   "execution_count": 13,
   "id": "90bd409c",
   "metadata": {},
   "outputs": [
    {
     "data": {
      "text/html": [
       "<div>\n",
       "<style scoped>\n",
       "    .dataframe tbody tr th:only-of-type {\n",
       "        vertical-align: middle;\n",
       "    }\n",
       "\n",
       "    .dataframe tbody tr th {\n",
       "        vertical-align: top;\n",
       "    }\n",
       "\n",
       "    .dataframe thead tr th {\n",
       "        text-align: left;\n",
       "    }\n",
       "\n",
       "    .dataframe thead tr:last-of-type th {\n",
       "        text-align: right;\n",
       "    }\n",
       "</style>\n",
       "<table border=\"1\" class=\"dataframe\">\n",
       "  <thead>\n",
       "    <tr>\n",
       "      <th></th>\n",
       "      <th></th>\n",
       "      <th colspan=\"2\" halign=\"left\">Loads</th>\n",
       "      <th colspan=\"2\" halign=\"left\">Cum. Loads</th>\n",
       "      <th colspan=\"2\" halign=\"left\">Adjusted Cum.L</th>\n",
       "    </tr>\n",
       "    <tr>\n",
       "      <th></th>\n",
       "      <th></th>\n",
       "      <th>ST1</th>\n",
       "      <th>ST2</th>\n",
       "      <th>ST1</th>\n",
       "      <th>ST2</th>\n",
       "      <th>ST1</th>\n",
       "      <th>ST2</th>\n",
       "    </tr>\n",
       "    <tr>\n",
       "      <th>Round Num</th>\n",
       "      <th>Position</th>\n",
       "      <th></th>\n",
       "      <th></th>\n",
       "      <th></th>\n",
       "      <th></th>\n",
       "      <th></th>\n",
       "      <th></th>\n",
       "    </tr>\n",
       "  </thead>\n",
       "  <tbody>\n",
       "    <tr>\n",
       "      <th>1</th>\n",
       "      <th>1</th>\n",
       "      <td>2</td>\n",
       "      <td>-2</td>\n",
       "      <td>2</td>\n",
       "      <td>0</td>\n",
       "      <td>2</td>\n",
       "      <td>0</td>\n",
       "    </tr>\n",
       "    <tr>\n",
       "      <th>2</th>\n",
       "      <th>2</th>\n",
       "      <td>0</td>\n",
       "      <td>0</td>\n",
       "      <td>0</td>\n",
       "      <td>0</td>\n",
       "      <td>0</td>\n",
       "      <td>0</td>\n",
       "    </tr>\n",
       "    <tr>\n",
       "      <th>3</th>\n",
       "      <th>3</th>\n",
       "      <td>2</td>\n",
       "      <td>0</td>\n",
       "      <td>2</td>\n",
       "      <td>2</td>\n",
       "      <td>2</td>\n",
       "      <td>2</td>\n",
       "    </tr>\n",
       "    <tr>\n",
       "      <th>4</th>\n",
       "      <th>4</th>\n",
       "      <td>0</td>\n",
       "      <td>-1</td>\n",
       "      <td>2</td>\n",
       "      <td>1</td>\n",
       "      <td>2</td>\n",
       "      <td>1</td>\n",
       "    </tr>\n",
       "    <tr>\n",
       "      <th>5</th>\n",
       "      <th>5</th>\n",
       "      <td>3</td>\n",
       "      <td>-4</td>\n",
       "      <td>4</td>\n",
       "      <td>0</td>\n",
       "      <td>4</td>\n",
       "      <td>0</td>\n",
       "    </tr>\n",
       "  </tbody>\n",
       "</table>\n",
       "</div>"
      ],
      "text/plain": [
       "                   Loads     Cum. Loads     Adjusted Cum.L    \n",
       "                     ST1 ST2        ST1 ST2            ST1 ST2\n",
       "Round Num Position                                            \n",
       "1         1            2  -2          2   0              2   0\n",
       "2         2            0   0          0   0              0   0\n",
       "3         3            2   0          2   2              2   2\n",
       "4         4            0  -1          2   1              2   1\n",
       "5         5            3  -4          4   0              4   0"
      ]
     },
     "execution_count": 13,
     "metadata": {},
     "output_type": "execute_result"
    }
   ],
   "source": [
    "df.head()"
   ]
  },
  {
   "cell_type": "code",
   "execution_count": 14,
   "id": "e7468be4",
   "metadata": {},
   "outputs": [],
   "source": [
    "# Maximum value of 'Adjusted Cum.L' multicolumn gives the capacity\n",
    "column = df['Adjusted Cum.L']\n",
    "max_value = column.max()\n",
    "s1_adj_max = max_value['ST1']\n",
    "s2_adj_max = max_value['ST2']\n",
    "def find_capacity():\n",
    "    if(s1_adj_max > s2_adj_max):\n",
    "        print(\"{} is the capacity.\".format(s1_adj_max))\n",
    "    elif(s2_adj_max > s1_adj_max):\n",
    "        print(\"{} is the capacity.\".format(s2_adj_max))\n",
    "    else:\n",
    "        print(\"{} is the capacity\".format(s2_adj_max))\n",
    "    \n",
    "# s2_adj_max or s1_adj_max doesn't matter, because they are equal in the else condition."
   ]
  },
  {
   "cell_type": "code",
   "execution_count": 15,
   "id": "02435575",
   "metadata": {},
   "outputs": [
    {
     "name": "stdout",
     "output_type": "stream",
     "text": [
      "4 is the capacity.\n"
     ]
    }
   ],
   "source": [
    "find_capacity()"
   ]
  },
  {
   "cell_type": "code",
   "execution_count": null,
   "id": "33dcdd78",
   "metadata": {},
   "outputs": [],
   "source": []
  }
 ],
 "metadata": {
  "kernelspec": {
   "display_name": "Python 3 (ipykernel)",
   "language": "python",
   "name": "python3"
  },
  "language_info": {
   "codemirror_mode": {
    "name": "ipython",
    "version": 3
   },
   "file_extension": ".py",
   "mimetype": "text/x-python",
   "name": "python",
   "nbconvert_exporter": "python",
   "pygments_lexer": "ipython3",
   "version": "3.9.12"
  }
 },
 "nbformat": 4,
 "nbformat_minor": 5
}
